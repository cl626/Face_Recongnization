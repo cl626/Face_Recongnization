{
 "cells": [
  {
   "cell_type": "code",
   "execution_count": 8,
   "metadata": {},
   "outputs": [
    {
     "name": "stdout",
     "output_type": "stream",
     "text": [
      "在该设备上运行: cpu\n"
     ]
    }
   ],
   "source": [
    "from facenet_pytorch import MTCNN, InceptionResnetV1, fixed_image_standardization, training, extract_face\n",
    "import torch\n",
    "from torch.utils.data import DataLoader, SubsetRandomSampler, SequentialSampler\n",
    "from torchvision import datasets, transforms\n",
    "import numpy as np\n",
    "import os\n",
    "import pickle,pdb,math\n",
    "\n",
    "data_dir = '../data/lfw/lfw'\n",
    "pairs_path = '../data/lfw/pairs.txt'\n",
    "\n",
    "batch_size = 2\n",
    "epochs = 15\n",
    "workers = 0 if os.name == 'nt' else 8\n",
    "\n",
    "device = torch.device('cuda:0' if torch.cuda.is_available() else 'cpu')\n",
    "print('在该设备上运行: {}'.format(device))\n",
    "\n",
    "with open('./embed_to_cls.pkl','rb') as file:\n",
    "    embeddings_dict=pickle.load(file)"
   ]
  },
  {
   "cell_type": "code",
   "execution_count": 9,
   "metadata": {},
   "outputs": [],
   "source": [
    "def read_pairs(pairs_filename):\n",
    "    pairs = []\n",
    "    with open(pairs_filename, 'r') as f:\n",
    "        for line in f.readlines()[1:]:\n",
    "            pair = line.strip().split()\n",
    "            pairs.append(pair)\n",
    "    return np.array(pairs, dtype=object)\n",
    "\n",
    "def get_paths(lfw_dir, pairs):\n",
    "    nrof_skipped_pairs = 0\n",
    "    path_list = []\n",
    "    issame_list = []\n",
    "    for pair in pairs:  # pair=(str,str,str)\n",
    "        # print(f\"len={len(pair)}\")\n",
    "        path0=lfw_dir+'/'+pair[0]   # 当前图像地址填充\n",
    "        path1=lfw_dir+'/'+pair[1]\n",
    "\n",
    "        if pair[2]==\"1\":\n",
    "            issame = True\n",
    "        elif pair[2]==\"0\":\n",
    "            issame = False\n",
    "\n",
    "        if os.path.exists(path0) and os.path.exists(path1):    # 仅在两个路径都存在时添加配对\n",
    "            path_list.append(path0)\n",
    "            path_list.append(path1)\n",
    "            issame_list.append(issame)\n",
    "        else:\n",
    "            nrof_skipped_pairs += 1\n",
    "    if nrof_skipped_pairs>0:\n",
    "        print('跳过 %d 个图像对' % nrof_skipped_pairs)\n",
    "\n",
    "    return path_list, issame_list"
   ]
  },
  {
   "cell_type": "code",
   "execution_count": 10,
   "metadata": {},
   "outputs": [
    {
     "name": "stdout",
     "output_type": "stream",
     "text": [
      "跳过 5 个图像对\n"
     ]
    }
   ],
   "source": [
    "# 以下是从David Sandberg的FaceNet实现中提取的LFW函数\n",
    "def distance(embeddings1, embeddings2, distance_metric=0):\n",
    "    if distance_metric==0:\n",
    "        # Euclidian distance\n",
    "        diff = np.subtract(embeddings1, embeddings2)\n",
    "        dist = np.sum(np.square(diff),1)\n",
    "    elif distance_metric==1:\n",
    "        # 基于余弦相似度的距离\n",
    "        dot = np.sum(np.multiply(embeddings1, embeddings2), axis=1)\n",
    "        norm = np.linalg.norm(embeddings1, axis=1) * np.linalg.norm(embeddings2, axis=1)\n",
    "        similarity = dot / norm\n",
    "        dist = np.arccos(similarity) / math.pi\n",
    "    else:\n",
    "        raise 'Undefined distance metric %d' % distance_metric\n",
    "\n",
    "    return dist\n",
    "\n",
    "pairs = read_pairs(pairs_path)\n",
    "path_list, issame_list = get_paths(data_dir+'_cropped', pairs)\n",
    "\n",
    "embeddings = np.array([embeddings_dict[path] for path in path_list if path in embeddings_dict.keys() ])"
   ]
  },
  {
   "cell_type": "code",
   "execution_count": 18,
   "metadata": {},
   "outputs": [
    {
     "name": "stdout",
     "output_type": "stream",
     "text": [
      "(512,)\n",
      "512\n",
      "dist=[0.12403172 0.18918154 0.16397257 0.18610983],tag=[False, False, False, False]\n"
     ]
    }
   ],
   "source": [
    "embeddings1 = embeddings[0::2]\n",
    "embeddings2 = embeddings[1::2]\n",
    "# print(embeddings1[0])\n",
    "print(embeddings1[0].shape)\n",
    "print(len(embeddings2[0]))\n",
    "pair_dist=distance(embeddings1[:4],embeddings2[:4],distance_metric=1)\n",
    "print(f\"dist={pair_dist},tag={issame_list[:4]}\")\n"
   ]
  }
 ],
 "metadata": {
  "kernelspec": {
   "display_name": "Python 3",
   "language": "python",
   "name": "python3"
  },
  "language_info": {
   "codemirror_mode": {
    "name": "ipython",
    "version": 3
   },
   "file_extension": ".py",
   "mimetype": "text/x-python",
   "name": "python",
   "nbconvert_exporter": "python",
   "pygments_lexer": "ipython3",
   "version": "3.12.1"
  }
 },
 "nbformat": 4,
 "nbformat_minor": 2
}
